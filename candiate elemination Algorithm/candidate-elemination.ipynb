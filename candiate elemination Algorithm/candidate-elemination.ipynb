{
 "cells": [
  {
   "cell_type": "code",
   "execution_count": 16,
   "metadata": {},
   "outputs": [],
   "source": [
    "import pandas as pd"
   ]
  },
  {
   "cell_type": "code",
   "execution_count": 17,
   "metadata": {},
   "outputs": [
    {
     "data": {
      "text/html": [
       "<div>\n",
       "<style scoped>\n",
       "    .dataframe tbody tr th:only-of-type {\n",
       "        vertical-align: middle;\n",
       "    }\n",
       "\n",
       "    .dataframe tbody tr th {\n",
       "        vertical-align: top;\n",
       "    }\n",
       "\n",
       "    .dataframe thead th {\n",
       "        text-align: right;\n",
       "    }\n",
       "</style>\n",
       "<table border=\"1\" class=\"dataframe\">\n",
       "  <thead>\n",
       "    <tr style=\"text-align: right;\">\n",
       "      <th></th>\n",
       "      <th>SKY</th>\n",
       "      <th>AIR TEMP</th>\n",
       "      <th>HUMIDITY</th>\n",
       "      <th>WIND</th>\n",
       "      <th>WATER</th>\n",
       "      <th>FORECAST</th>\n",
       "      <th>Enjoy sport</th>\n",
       "    </tr>\n",
       "  </thead>\n",
       "  <tbody>\n",
       "    <tr>\n",
       "      <th>0</th>\n",
       "      <td>Sunny</td>\n",
       "      <td>Warm</td>\n",
       "      <td>Normal</td>\n",
       "      <td>Strong</td>\n",
       "      <td>Warm</td>\n",
       "      <td>Same</td>\n",
       "      <td>Yes</td>\n",
       "    </tr>\n",
       "    <tr>\n",
       "      <th>1</th>\n",
       "      <td>Sunny</td>\n",
       "      <td>Warm</td>\n",
       "      <td>High</td>\n",
       "      <td>Strong</td>\n",
       "      <td>Warm</td>\n",
       "      <td>Same</td>\n",
       "      <td>Yes</td>\n",
       "    </tr>\n",
       "    <tr>\n",
       "      <th>2</th>\n",
       "      <td>Rainy</td>\n",
       "      <td>Cold</td>\n",
       "      <td>High</td>\n",
       "      <td>Strong</td>\n",
       "      <td>Warm</td>\n",
       "      <td>Change</td>\n",
       "      <td>No</td>\n",
       "    </tr>\n",
       "    <tr>\n",
       "      <th>3</th>\n",
       "      <td>Sunny</td>\n",
       "      <td>Warm</td>\n",
       "      <td>High</td>\n",
       "      <td>Strong</td>\n",
       "      <td>Cool</td>\n",
       "      <td>Change</td>\n",
       "      <td>Yes</td>\n",
       "    </tr>\n",
       "  </tbody>\n",
       "</table>\n",
       "</div>"
      ],
      "text/plain": [
       "     SKY AIR TEMP HUMIDITY    WIND WATER FORECAST Enjoy sport\n",
       "0  Sunny     Warm   Normal  Strong  Warm     Same         Yes\n",
       "1  Sunny     Warm     High  Strong  Warm     Same         Yes\n",
       "2  Rainy     Cold     High  Strong  Warm   Change          No\n",
       "3  Sunny     Warm     High  Strong  Cool   Change         Yes"
      ]
     },
     "execution_count": 17,
     "metadata": {},
     "output_type": "execute_result"
    }
   ],
   "source": [
    "data_set=pd.read_csv('sport.csv')\n",
    "data_set"
   ]
  },
  {
   "cell_type": "code",
   "execution_count": 18,
   "metadata": {},
   "outputs": [
    {
     "name": "stdout",
     "output_type": "stream",
     "text": [
      "Initial Specific Hypothesis (S): ['Sunny' 'Warm' 'Normal' 'Strong' 'Warm' 'Same']\n",
      "Initial General Hypothesis (G): [['?', '?', '?', '?', '?', '?']]\n",
      "\n"
     ]
    }
   ],
   "source": [
    "# Extract features and target\n",
    "X = data_set.iloc[:, :-1].values\n",
    "y = data_set.iloc[:, -1].values\n",
    "\n",
    "# Initialize S (Specific) with the first positive example\n",
    "S = X[0].copy()\n",
    "\n",
    "# Initialize G (General) as the most general hypothesis\n",
    "G = [['?' for _ in range(len(S))]]\n",
    "\n",
    "# Candidate Elimination Algorithm with step-by-step tracking\n",
    "print(f\"Initial Specific Hypothesis (S): {S}\")\n",
    "print(f\"Initial General Hypothesis (G): {G}\\n\")"
   ]
  },
  {
   "cell_type": "code",
   "execution_count": 19,
   "metadata": {},
   "outputs": [
    {
     "name": "stdout",
     "output_type": "stream",
     "text": [
      "Instance 1: ['Sunny' 'Warm' 'Normal' 'Strong' 'Warm' 'Same'], Outcome: Yes\n",
      "Specific Hypothesis after instance 1: ['Sunny' 'Warm' 'Normal' 'Strong' 'Warm' 'Same']\n",
      "General Hypothesis after instance 1: [['?', '?', '?', '?', '?', '?']]\n",
      "\n",
      "Instance 2: ['Sunny' 'Warm' 'High' 'Strong' 'Warm' 'Same'], Outcome: Yes\n",
      "Specific Hypothesis after instance 2: ['Sunny' 'Warm' '?' 'Strong' 'Warm' 'Same']\n",
      "General Hypothesis after instance 2: [['?', '?', '?', '?', '?', '?']]\n",
      "\n",
      "Instance 3: ['Rainy' 'Cold' 'High' 'Strong' 'Warm' 'Change'], Outcome: No\n",
      "Specific Hypothesis after instance 3: ['Sunny' 'Warm' '?' 'Strong' 'Warm' 'Same']\n",
      "General Hypothesis after instance 3: [['Sunny', '?', '?', '?', '?', '?'], ['?', 'Warm', '?', '?', '?', '?'], ['?', '?', '?', '?', '?', 'Same']]\n",
      "\n",
      "Instance 4: ['Sunny' 'Warm' 'High' 'Strong' 'Cool' 'Change'], Outcome: Yes\n",
      "Specific Hypothesis after instance 4: ['Sunny' 'Warm' '?' 'Strong' '?' '?']\n",
      "General Hypothesis after instance 4: [['Sunny', '?', '?', '?', '?', '?'], ['?', 'Warm', '?', '?', '?', '?']]\n",
      "\n"
     ]
    }
   ],
   "source": [
    "# Candidate Elimination algorithm loop\n",
    "for i in range(len(X)):\n",
    "    print(f\"Instance {i+1}: {X[i]}, Outcome: {y[i]}\")\n",
    "    \n",
    "    if y[i] == 'Yes':  # Positive example\n",
    "        # Generalize specific hypothesis S\n",
    "        for j in range(len(S)):\n",
    "            if S[j] != X[i][j]:\n",
    "                S[j] = '?'  # Generalize S\n",
    "        # Retain only consistent general hypotheses in G\n",
    "        G = [g for g in G if all(g[k] == '?' or g[k] == X[i][k] for k in range(len(g)))]\n",
    "    else:  # Negative example\n",
    "        new_G = []\n",
    "        for g in G:\n",
    "            for j in range(len(g)):\n",
    "                # Specialize general hypothesis g based on mismatches with S\n",
    "                if g[j] == '?' and S[j] != X[i][j]:\n",
    "                    new_g = g.copy()\n",
    "                    new_g[j] = S[j]\n",
    "                    # Add new hypothesis only if it's not too general (i.e., all `?`)\n",
    "                    if new_g != ['?' for _ in range(len(S))]:\n",
    "                        new_G.append(new_g)\n",
    "        G = new_G  # Update G with the specialized hypotheses\n",
    "    print(f\"Specific Hypothesis after instance {i+1}: {S}\")\n",
    "    print(f\"General Hypothesis after instance {i+1}: {G}\\n\")"
   ]
  },
  {
   "cell_type": "code",
   "execution_count": 20,
   "metadata": {},
   "outputs": [
    {
     "name": "stdout",
     "output_type": "stream",
     "text": [
      "Final Specific Hypothesis (S): ['Sunny' 'Warm' '?' 'Strong' '?' '?']\n",
      "Final General Hypothesis (G): [['Sunny', '?', '?', '?', '?', '?'], ['?', 'Warm', '?', '?', '?', '?']]\n"
     ]
    }
   ],
   "source": [
    "# Final output\n",
    "print(\"Final Specific Hypothesis (S):\", S)\n",
    "print(\"Final General Hypothesis (G):\", G)"
   ]
  }
 ],
 "metadata": {
  "kernelspec": {
   "display_name": "Python 3",
   "language": "python",
   "name": "python3"
  },
  "language_info": {
   "codemirror_mode": {
    "name": "ipython",
    "version": 3
   },
   "file_extension": ".py",
   "mimetype": "text/x-python",
   "name": "python",
   "nbconvert_exporter": "python",
   "pygments_lexer": "ipython3",
   "version": "3.12.6"
  }
 },
 "nbformat": 4,
 "nbformat_minor": 2
}
