{
 "cells": [
  {
   "cell_type": "markdown",
   "metadata": {},
   "source": [
    "# Import Libraries and Load Data"
   ]
  },
  {
   "cell_type": "code",
   "execution_count": 7,
   "id": "01J5FGKP5M4B2CS87T174GDRYS",
   "metadata": {},
   "outputs": [
    {
     "name": "stdout",
     "output_type": "stream",
     "text": [
      "First few rows of the DataFrame:\n",
      "     Outlook Play\n",
      "0      Rainy  yes\n",
      "1      Sunny  yes\n",
      "2   Overcast  yes\n",
      "3   Overcast  yes\n",
      "4      Sunny   no\n",
      "5      Rainy  yes\n",
      "6      Sunny  yes\n",
      "7   Overcast  yes\n",
      "8      Rainy   no\n",
      "9      Sunny   no\n",
      "10     Sunny  yes\n",
      "11     Rainy   no\n",
      "12  Overcast  yes\n",
      "13  Overcast  yes\n",
      "\n",
      "Column names:\n",
      "Index(['Outlook', 'Play'], dtype='object')\n"
     ]
    }
   ],
   "source": [
    "import pandas as pd\n",
    "import os\n",
    "# Define the file path\n",
    "df = pd.read_csv('tennis.csv')\n",
    "# Strip any leading or trailing spaces from column names\n",
    "df.columns = df.columns.str.strip()\n",
    "# Display the first few rows and check columns\n",
    "print(\"First few rows of the DataFrame:\")\n",
    "print(df)\n",
    "print(\"\\nColumn names:\")\n",
    "print(df.columns)"
   ]
  },
  {
   "cell_type": "markdown",
   "metadata": {},
   "source": [
    "# Verify Columns and Display the Frequency Table"
   ]
  },
  {
   "cell_type": "code",
   "execution_count": 8,
   "id": "01J5FG40S7JVS27R8E4SB7JKFJ",
   "metadata": {},
   "outputs": [
    {
     "name": "stdout",
     "output_type": "stream",
     "text": [
      "\n",
      "Frequency Table:\n",
      "          no  yes  total\n",
      "Outlook                 \n",
      "Overcast   0    5      5\n",
      "Rainy      2    2      4\n",
      "Sunny      2    3      5\n",
      "total      4   10     14\n"
     ]
    }
   ],
   "source": [
    "# Check if the columns 'Outlook' and 'Play' exist\n",
    "if 'Outlook' in df.columns and 'Play' in df.columns:\n",
    "    # Calculate Frequency Table\n",
    "    frequency_table = pd.crosstab(df['Outlook'], df['Play'])\n",
    "    frequency_table.columns = ['no', 'yes']\n",
    "    frequency_table.loc['total'] = frequency_table.sum()\n",
    "    frequency_table['total'] = frequency_table.sum(axis=1)\n",
    "    \n",
    "    print(\"\\nFrequency Table:\")\n",
    "    print(frequency_table)\n",
    "else:\n",
    "    print(\"The required columns 'Outlook' and 'Play' are missing in the DataFrame.\")\n"
   ]
  },
  {
   "cell_type": "markdown",
   "metadata": {},
   "source": [
    "# Calculate and Display the Likelihood Table"
   ]
  },
  {
   "cell_type": "code",
   "execution_count": 9,
   "id": "01J5FG5VB2J25PH94QAR28E403",
   "metadata": {},
   "outputs": [
    {
     "name": "stdout",
     "output_type": "stream",
     "text": [
      "\n",
      "Likelihood Table:\n",
      "            no   yes  total\n",
      "Outlook                    \n",
      "Overcast  0.00  0.36   0.36\n",
      "Rainy     0.14  0.14   0.29\n",
      "Sunny     0.14  0.21   0.36\n",
      "total     0.29  0.71    NaN\n"
     ]
    }
   ],
   "source": [
    "if 'Outlook' in df.columns and 'Play' in df.columns:\n",
    "    # Calculate Likelihood Table\n",
    "    likelihood_table = pd.crosstab(df['Outlook'], df['Play'], normalize='all')\n",
    "    likelihood_table = likelihood_table.rename_axis('Outlook').reset_index()\n",
    "    likelihood_table['total'] = likelihood_table['yes'] + likelihood_table['no']\n",
    "    likelihood_table['pro'] = likelihood_table['yes'] / likelihood_table['total']\n",
    "    \n",
    "    # Calculate totals for 'no' and 'yes'\n",
    "    total_yes = likelihood_table['yes'].sum() / likelihood_table['total'].sum()\n",
    "    total_no = likelihood_table['no'].sum() / likelihood_table['total'].sum()\n",
    "    total_row = pd.DataFrame([['total', total_no, total_yes]],\n",
    "                             columns=['Outlook', 'no', 'yes'])\n",
    "    \n",
    "    # Append the totals row\n",
    "    likelihood_table = pd.concat([likelihood_table, total_row], ignore_index=True)\n",
    "    \n",
    "    # Drop the 'pro' column\n",
    "    likelihood_table = likelihood_table.drop(columns=['pro'])\n",
    "    \n",
    "    # Convert values to numeric where necessary\n",
    "    likelihood_table[['no', 'yes']] = likelihood_table[['no', 'yes']].apply(pd.to_numeric)\n",
    "    \n",
    "    # Format the output to match required specifications\n",
    "    likelihood_table = likelihood_table.set_index('Outlook')\n",
    "    likelihood_table = likelihood_table.round(2)\n",
    "    \n",
    "    print(\"\\nLikelihood Table:\")\n",
    "    print(likelihood_table)\n",
    "else:\n",
    "    print(\"The required columns 'Outlook' and 'Play' are missing in the DataFrame.\")\n"
   ]
  },
  {
   "cell_type": "markdown",
   "metadata": {},
   "source": [
    "# Apply Bayes' Theorem and Make Prediction"
   ]
  },
  {
   "cell_type": "code",
   "execution_count": 10,
   "metadata": {},
   "outputs": [
    {
     "name": "stdout",
     "output_type": "stream",
     "text": [
      "\n",
      "P(Play=yes | Outlook=Sunny) = 0.79\n",
      "P(Play=no | Outlook=Sunny) = 0.21\n",
      "If the weather is sunny, the player should play.\n"
     ]
    }
   ],
   "source": [
    "if 'Outlook' in df.columns and 'Play' in df.columns:\n",
    "    # Apply Bayes' Theorem for Prediction\n",
    "    prior_play_yes = df['Play'].value_counts(normalize=True).get('yes', 0)\n",
    "    prior_play_no = df['Play'].value_counts(normalize=True).get('no', 0)\n",
    "    \n",
    "    P_sunny_given_play_yes = likelihood_table.loc['Sunny', 'yes']\n",
    "    P_sunny_given_play_no = likelihood_table.loc['Sunny', 'no']\n",
    "    \n",
    "    posterior_play_yes = P_sunny_given_play_yes * prior_play_yes\n",
    "    posterior_play_no = P_sunny_given_play_no * prior_play_no\n",
    "    \n",
    "    total = posterior_play_yes + posterior_play_no\n",
    "    posterior_play_yes /= total\n",
    "    posterior_play_no /= total\n",
    "    \n",
    "    print(f'\\nP(Play=yes | Outlook=Sunny) = {posterior_play_yes:.2f}')\n",
    "    print(f'P(Play=no | Outlook=Sunny) = {posterior_play_no:.2f}')\n",
    "    \n",
    "    # Print the Prediction Result\n",
    "    if posterior_play_yes > posterior_play_no:\n",
    "        print('If the weather is sunny, the player should play.')\n",
    "    else:\n",
    "        print('If the weather is sunny, the player should not play.')\n",
    "else:\n",
    "    print(\"The required columns 'Outlook' and 'Play' are missing in the DataFrame.\")"
   ]
  },
  {
   "cell_type": "code",
   "execution_count": null,
   "metadata": {},
   "outputs": [],
   "source": []
  }
 ],
 "metadata": {
  "kernelspec": {
   "display_name": "Python 3",
   "language": "python",
   "name": "python3"
  },
  "language_info": {
   "codemirror_mode": {
    "name": "ipython",
    "version": 3
   },
   "file_extension": ".py",
   "mimetype": "text/x-python",
   "name": "python",
   "nbconvert_exporter": "python",
   "pygments_lexer": "ipython3",
   "version": "3.12.7"
  }
 },
 "nbformat": 4,
 "nbformat_minor": 2
}
